{
  "nbformat": 4,
  "nbformat_minor": 0,
  "metadata": {
    "colab": {
      "provenance": []
    },
    "kernelspec": {
      "name": "python3",
      "display_name": "Python 3"
    },
    "language_info": {
      "name": "python"
    }
  },
  "cells": [
    {
      "cell_type": "markdown",
      "source": [
        "# MNIST Handwritten Digit Classification"
      ],
      "metadata": {
        "id": "x5s74YjI6wL9"
      }
    },
    {
      "cell_type": "code",
      "source": [
        "# !pip install certifi\n",
        "# !python3 -m certifi"
      ],
      "metadata": {
        "id": "P2YvlXyX7_oO"
      },
      "execution_count": 51,
      "outputs": []
    },
    {
      "cell_type": "code",
      "source": [
        "# https://storage.googleapis.com/tensorflow/tf-keras-datasets/mnist.npz"
      ],
      "metadata": {
        "id": "nbUvwkxtafq1"
      },
      "execution_count": 52,
      "outputs": []
    },
    {
      "cell_type": "code",
      "source": [
        "\n",
        "# baseline cnn model for mnist\n",
        "from numpy import mean\n",
        "from numpy import std\n",
        "from matplotlib import pyplot as plt\n",
        "from sklearn.model_selection import KFold\n",
        "from tensorflow.keras.datasets import mnist\n",
        "from tensorflow.keras.utils import to_categorical\n",
        "from tensorflow.keras.models import Sequential\n",
        "from tensorflow.keras.layers import Conv2D, Dropout\n",
        "from tensorflow.keras.layers import MaxPooling2D\n",
        "from tensorflow.keras.layers import Dense\n",
        "from tensorflow.keras.layers import Flatten\n",
        "from tensorflow.keras.optimizers import SGD"
      ],
      "metadata": {
        "id": "jJXus0rafTsF"
      },
      "execution_count": 53,
      "outputs": []
    },
    {
      "cell_type": "markdown",
      "source": [
        "## Load MNIST Dataset"
      ],
      "metadata": {
        "id": "p3BJf6OYaHF_"
      }
    },
    {
      "cell_type": "code",
      "source": [
        "# define cnn model\n",
        "\n",
        "def define_model():\n",
        " model = Sequential()\n",
        " model.add(Conv2D(32, (3, 3), activation='relu', kernel_initializer='he_uniform', input_shape=(28, 28, 1)))\n",
        " model.add(MaxPooling2D((2, 2)))\n",
        " model.add(Flatten())\n",
        " model.add(Dropout(0.2))\n",
        " model.add(Dense(100, activation='relu', kernel_initializer='he_uniform'))\n",
        " model.add(Dense(10, activation='softmax'))\n",
        " # compile model\n",
        " model.compile(optimizer='adadelta', loss='categorical_crossentropy', metrics=['categorical_accuracy'])\n",
        " return model"
      ],
      "metadata": {
        "id": "FQyRPGbnfInz"
      },
      "execution_count": 54,
      "outputs": []
    },
    {
      "cell_type": "code",
      "source": [
        "import numpy as np\n",
        "import matplotlib.pyplot as plt\n",
        "\n",
        "# Load the .npz file\n",
        "data = np.load('mnist.npz')\n",
        "\n",
        "# Extract arrays from the .npz file\n",
        "train_images = data['x_train']\n",
        "train_labels = data['y_train']\n",
        "test_images = data['x_test']\n",
        "test_labels = data['y_test']\n",
        "\n",
        "# Summarize loaded dataset\n",
        "print('Train: X=%s, y=%s' % (train_images.shape, train_labels.shape))\n",
        "print('Test: X=%s, y=%s' % (test_images.shape, test_labels.shape))\n",
        "\n",
        "# Plot first few images\n",
        "plt.figure(figsize=(10, 10))\n",
        "for i in range(9):\n",
        "    # define subplot\n",
        "    plt.subplot(330 + 1 + i)\n",
        "    plt.imshow(train_images[i], cmap='gray')\n",
        "    plt.title(f'Label: {train_labels[i]}')\n",
        "    plt.axis('off')\n",
        "plt.tight_layout()\n",
        "plt.show()\n"
      ],
      "metadata": {
        "colab": {
          "base_uri": "https://localhost:8080/",
          "height": 1000
        },
        "id": "9fbL_MRy7dCo",
        "outputId": "ea8e0953-6307-46df-a757-31622d097271"
      },
      "execution_count": 55,
      "outputs": [
        {
          "output_type": "stream",
          "name": "stdout",
          "text": [
            "Train: X=(60000, 28, 28), y=(60000,)\n",
            "Test: X=(10000, 28, 28), y=(10000,)\n"
          ]
        },
        {
          "output_type": "display_data",
          "data": {
            "text/plain": [
              "<Figure size 1000x1000 with 9 Axes>"
            ],
            "image/png": "[encoded data removed]"
          },
          "metadata": {}
        }
      ]
    },
    {
      "cell_type": "markdown",
      "source": [
        "## Model Evaluation Methodology"
      ],
      "metadata": {
        "id": "wlQVzh6IaRZF"
      }
    },
    {
      "cell_type": "code",
      "source": [
        "\n",
        "# Convert labels to one-hot encoding\n",
        "train_labels = to_categorical(train_labels, num_classes=10)\n",
        "test_labels = to_categorical(test_labels, num_classes=10)\n",
        "\n",
        "# record model performance on a validation dataset during training\n",
        "model = define_model()\n",
        "history = model.fit(train_images,train_labels, validation_data=(test_images, test_labels), epochs=100, batch_size=32)"
      ],
      "metadata": {
        "colab": {
          "base_uri": "https://localhost:8080/"
        },
        "id": "73uIy-l5cIPu",
        "outputId": "f3fcd9dc-b53d-4fbd-fd40-0d2675b04fb1"
      },
      "execution_count": 56,
      "outputs": [
        {
          "output_type": "stream",
          "name": "stdout",
          "text": [
            "Epoch 1/100\n",
            "\u001b[1m1875/1875\u001b[0m \u001b[32m━━━━━━━━━━━━━━━━━━━━\u001b[0m\u001b[37m\u001b[0m \u001b[1m13s\u001b[0m 7ms/step - categorical_accuracy: 0.2017 - loss: 117.2635 - val_categorical_accuracy: 0.5956 - val_loss: 24.8653\n",
            "Epoch 2/100\n",
            "\u001b[1m1875/1875\u001b[0m \u001b[32m━━━━━━━━━━━━━━━━━━━━\u001b[0m\u001b[37m\u001b[0m \u001b[1m12s\u001b[0m 6ms/step - categorical_accuracy: 0.4802 - loss: 42.6030 - val_categorical_accuracy: 0.7332 - val_loss: 14.3317\n",
            "Epoch 3/100\n",
            "\u001b[1m1875/1875\u001b[0m \u001b[32m━━━━━━━━━━━━━━━━━━━━\u001b[0m\u001b[37m\u001b[0m \u001b[1m13s\u001b[0m 7ms/step - categorical_accuracy: 0.6025 - loss: 28.6187 - val_categorical_accuracy: 0.7903 - val_loss: 10.5569\n",
            "Epoch 4/100\n",
            "\u001b[1m1875/1875\u001b[0m \u001b[32m━━━━━━━━━━━━━━━━━━━━\u001b[0m\u001b[37m\u001b[0m \u001b[1m13s\u001b[0m 7ms/step - categorical_accuracy: 0.6651 - loss: 22.3112 - val_categorical_accuracy: 0.8189 - val_loss: 8.7873\n",
            "Epoch 5/100\n",
            "\u001b[1m1875/1875\u001b[0m \u001b[32m━━━━━━━━━━━━━━━━━━━━\u001b[0m\u001b[37m\u001b[0m \u001b[1m13s\u001b[0m 7ms/step - categorical_accuracy: 0.7032 - loss: 18.5736 - val_categorical_accuracy: 0.8416 - val_loss: 7.6623\n",
            "Epoch 6/100\n",
            "\u001b[1m1875/1875\u001b[0m \u001b[32m━━━━━━━━━━━━━━━━━━━━\u001b[0m\u001b[37m\u001b[0m \u001b[1m13s\u001b[0m 7ms/step - categorical_accuracy: 0.7329 - loss: 16.1443 - val_categorical_accuracy: 0.8561 - val_loss: 6.7635\n",
            "Epoch 7/100\n",
            "\u001b[1m1875/1875\u001b[0m \u001b[32m━━━━━━━━━━━━━━━━━━━━\u001b[0m\u001b[37m\u001b[0m \u001b[1m13s\u001b[0m 7ms/step - categorical_accuracy: 0.7496 - loss: 14.5288 - val_categorical_accuracy: 0.8645 - val_loss: 6.1853\n",
            "Epoch 8/100\n",
            "\u001b[1m1875/1875\u001b[0m \u001b[32m━━━━━━━━━━━━━━━━━━━━\u001b[0m\u001b[37m\u001b[0m \u001b[1m13s\u001b[0m 7ms/step - categorical_accuracy: 0.7663 - loss: 13.2800 - val_categorical_accuracy: 0.8739 - val_loss: 5.7465\n",
            "Epoch 9/100\n",
            "\u001b[1m1875/1875\u001b[0m \u001b[32m━━━━━━━━━━━━━━━━━━━━\u001b[0m\u001b[37m\u001b[0m \u001b[1m13s\u001b[0m 7ms/step - categorical_accuracy: 0.7776 - loss: 12.1330 - val_categorical_accuracy: 0.8809 - val_loss: 5.2852\n",
            "Epoch 10/100\n",
            "\u001b[1m1875/1875\u001b[0m \u001b[32m━━━━━━━━━━━━━━━━━━━━\u001b[0m\u001b[37m\u001b[0m \u001b[1m13s\u001b[0m 7ms/step - categorical_accuracy: 0.7869 - loss: 11.3298 - val_categorical_accuracy: 0.8852 - val_loss: 5.0206\n",
            "Epoch 11/100\n",
            "\u001b[1m1875/1875\u001b[0m \u001b[32m━━━━━━━━━━━━━━━━━━━━\u001b[0m\u001b[37m\u001b[0m \u001b[1m13s\u001b[0m 7ms/step - categorical_accuracy: 0.7914 - loss: 10.6167 - val_categorical_accuracy: 0.8910 - val_loss: 4.7013\n",
            "Epoch 12/100\n",
            "\u001b[1m1875/1875\u001b[0m \u001b[32m━━━━━━━━━━━━━━━━━━━━\u001b[0m\u001b[37m\u001b[0m \u001b[1m13s\u001b[0m 7ms/step - categorical_accuracy: 0.8017 - loss: 10.1202 - val_categorical_accuracy: 0.8933 - val_loss: 4.4222\n",
            "Epoch 13/100\n",
            "\u001b[1m1875/1875\u001b[0m \u001b[32m━━━━━━━━━━━━━━━━━━━━\u001b[0m\u001b[37m\u001b[0m \u001b[1m13s\u001b[0m 7ms/step - categorical_accuracy: 0.8029 - loss: 9.8010 - val_categorical_accuracy: 0.8942 - val_loss: 4.3030\n",
            "Epoch 14/100\n",
            "\u001b[1m1875/1875\u001b[0m \u001b[32m━━━━━━━━━━━━━━━━━━━━\u001b[0m\u001b[37m\u001b[0m \u001b[1m13s\u001b[0m 7ms/step - categorical_accuracy: 0.8109 - loss: 8.9240 - val_categorical_accuracy: 0.8960 - val_loss: 4.0922\n",
            "Epoch 15/100\n",
            "\u001b[1m1875/1875\u001b[0m \u001b[32m━━━━━━━━━━━━━━━━━━━━\u001b[0m\u001b[37m\u001b[0m \u001b[1m13s\u001b[0m 7ms/step - categorical_accuracy: 0.8181 - loss: 8.6005 - val_categorical_accuracy: 0.8988 - val_loss: 3.8749\n",
            "Epoch 16/100\n",
            "\u001b[1m1875/1875\u001b[0m \u001b[32m━━━━━━━━━━━━━━━━━━━━\u001b[0m\u001b[37m\u001b[0m \u001b[1m13s\u001b[0m 7ms/step - categorical_accuracy: 0.8199 - loss: 8.1282 - val_categorical_accuracy: 0.9020 - val_loss: 3.6985\n",
            "Epoch 17/100\n",
            "\u001b[1m1875/1875\u001b[0m \u001b[32m━━━━━━━━━━━━━━━━━━━━\u001b[0m\u001b[37m\u001b[0m \u001b[1m13s\u001b[0m 7ms/step - categorical_accuracy: 0.8249 - loss: 7.8023 - val_categorical_accuracy: 0.9022 - val_loss: 3.5662\n",
            "Epoch 18/100\n",
            "\u001b[1m1875/1875\u001b[0m \u001b[32m━━━━━━━━━━━━━━━━━━━━\u001b[0m\u001b[37m\u001b[0m \u001b[1m13s\u001b[0m 7ms/step - categorical_accuracy: 0.8284 - loss: 7.4936 - val_categorical_accuracy: 0.9044 - val_loss: 3.4282\n",
            "Epoch 19/100\n",
            "\u001b[1m1875/1875\u001b[0m \u001b[32m━━━━━━━━━━━━━━━━━━━━\u001b[0m\u001b[37m\u001b[0m \u001b[1m12s\u001b[0m 7ms/step - categorical_accuracy: 0.8343 - loss: 7.2775 - val_categorical_accuracy: 0.9083 - val_loss: 3.2531\n",
            "Epoch 20/100\n",
            "\u001b[1m1875/1875\u001b[0m \u001b[32m━━━━━━━━━━━━━━━━━━━━\u001b[0m\u001b[37m\u001b[0m \u001b[1m13s\u001b[0m 7ms/step - categorical_accuracy: 0.8349 - loss: 6.9248 - val_categorical_accuracy: 0.9120 - val_loss: 3.1116\n",
            "Epoch 21/100\n",
            "\u001b[1m1875/1875\u001b[0m \u001b[32m━━━━━━━━━━━━━━━━━━━━\u001b[0m\u001b[37m\u001b[0m \u001b[1m13s\u001b[0m 7ms/step - categorical_accuracy: 0.8379 - loss: 6.6875 - val_categorical_accuracy: 0.9112 - val_loss: 3.0073\n",
            "Epoch 22/100\n",
            "\u001b[1m1875/1875\u001b[0m \u001b[32m━━━━━━━━━━━━━━━━━━━━\u001b[0m\u001b[37m\u001b[0m \u001b[1m13s\u001b[0m 7ms/step - categorical_accuracy: 0.8407 - loss: 6.4405 - val_categorical_accuracy: 0.9128 - val_loss: 2.9070\n",
            "Epoch 23/100\n",
            "\u001b[1m1875/1875\u001b[0m \u001b[32m━━━━━━━━━━━━━━━━━━━━\u001b[0m\u001b[37m\u001b[0m \u001b[1m13s\u001b[0m 7ms/step - categorical_accuracy: 0.8402 - loss: 6.2463 - val_categorical_accuracy: 0.9142 - val_loss: 2.7731\n",
            "Epoch 24/100\n",
            "\u001b[1m1875/1875\u001b[0m \u001b[32m━━━━━━━━━━━━━━━━━━━━\u001b[0m\u001b[37m\u001b[0m \u001b[1m13s\u001b[0m 7ms/step - categorical_accuracy: 0.8440 - loss: 6.0400 - val_categorical_accuracy: 0.9142 - val_loss: 2.6736\n",
            "Epoch 25/100\n",
            "\u001b[1m1875/1875\u001b[0m \u001b[32m━━━━━━━━━━━━━━━━━━━━\u001b[0m\u001b[37m\u001b[0m \u001b[1m12s\u001b[0m 7ms/step - categorical_accuracy: 0.8446 - loss: 5.9260 - val_categorical_accuracy: 0.9153 - val_loss: 2.5899\n",
            "Epoch 26/100\n",
            "\u001b[1m1875/1875\u001b[0m \u001b[32m━━━━━━━━━━━━━━━━━━━━\u001b[0m\u001b[37m\u001b[0m \u001b[1m13s\u001b[0m 7ms/step - categorical_accuracy: 0.8484 - loss: 5.3968 - val_categorical_accuracy: 0.9162 - val_loss: 2.5160\n",
            "Epoch 27/100\n",
            "\u001b[1m1875/1875\u001b[0m \u001b[32m━━━━━━━━━━━━━━━━━━━━\u001b[0m\u001b[37m\u001b[0m \u001b[1m13s\u001b[0m 7ms/step - categorical_accuracy: 0.8489 - loss: 5.5415 - val_categorical_accuracy: 0.9173 - val_loss: 2.4289\n",
            "Epoch 28/100\n",
            "\u001b[1m1875/1875\u001b[0m \u001b[32m━━━━━━━━━━━━━━━━━━━━\u001b[0m\u001b[37m\u001b[0m \u001b[1m13s\u001b[0m 7ms/step - categorical_accuracy: 0.8524 - loss: 5.1192 - val_categorical_accuracy: 0.9178 - val_loss: 2.3539\n",
            "Epoch 29/100\n",
            "\u001b[1m1875/1875\u001b[0m \u001b[32m━━━━━━━━━━━━━━━━━━━━\u001b[0m\u001b[37m\u001b[0m \u001b[1m12s\u001b[0m 7ms/step - categorical_accuracy: 0.8475 - loss: 5.2574 - val_categorical_accuracy: 0.9194 - val_loss: 2.2614\n",
            "Epoch 30/100\n",
            "\u001b[1m1875/1875\u001b[0m \u001b[32m━━━━━━━━━━━━━━━━━━━━\u001b[0m\u001b[37m\u001b[0m \u001b[1m13s\u001b[0m 7ms/step - categorical_accuracy: 0.8481 - loss: 5.1102 - val_categorical_accuracy: 0.9187 - val_loss: 2.1947\n",
            "Epoch 31/100\n",
            "\u001b[1m1875/1875\u001b[0m \u001b[32m━━━━━━━━━━━━━━━━━━━━\u001b[0m\u001b[37m\u001b[0m \u001b[1m13s\u001b[0m 7ms/step - categorical_accuracy: 0.8530 - loss: 4.8943 - val_categorical_accuracy: 0.9183 - val_loss: 2.1365\n",
            "Epoch 32/100\n",
            "\u001b[1m1875/1875\u001b[0m \u001b[32m━━━━━━━━━━━━━━━━━━━━\u001b[0m\u001b[37m\u001b[0m \u001b[1m12s\u001b[0m 7ms/step - categorical_accuracy: 0.8543 - loss: 4.7704 - val_categorical_accuracy: 0.9191 - val_loss: 2.0689\n",
            "Epoch 33/100\n",
            "\u001b[1m1875/1875\u001b[0m \u001b[32m━━━━━━━━━━━━━━━━━━━━\u001b[0m\u001b[37m\u001b[0m \u001b[1m13s\u001b[0m 7ms/step - categorical_accuracy: 0.8560 - loss: 4.7954 - val_categorical_accuracy: 0.9201 - val_loss: 2.0034\n",
            "Epoch 34/100\n",
            "\u001b[1m1875/1875\u001b[0m \u001b[32m━━━━━━━━━━━━━━━━━━━━\u001b[0m\u001b[37m\u001b[0m \u001b[1m13s\u001b[0m 7ms/step - categorical_accuracy: 0.8595 - loss: 4.3691 - val_categorical_accuracy: 0.9208 - val_loss: 1.9558\n",
            "Epoch 35/100\n",
            "\u001b[1m1875/1875\u001b[0m \u001b[32m━━━━━━━━━━━━━━━━━━━━\u001b[0m\u001b[37m\u001b[0m \u001b[1m13s\u001b[0m 7ms/step - categorical_accuracy: 0.8592 - loss: 4.4914 - val_categorical_accuracy: 0.9203 - val_loss: 1.9073\n",
            "Epoch 36/100\n",
            "\u001b[1m1875/1875\u001b[0m \u001b[32m━━━━━━━━━━━━━━━━━━━━\u001b[0m\u001b[37m\u001b[0m \u001b[1m13s\u001b[0m 7ms/step - categorical_accuracy: 0.8595 - loss: 4.2912 - val_categorical_accuracy: 0.9212 - val_loss: 1.8713\n",
            "Epoch 37/100\n",
            "\u001b[1m1875/1875\u001b[0m \u001b[32m━━━━━━━━━━━━━━━━━━━━\u001b[0m\u001b[37m\u001b[0m \u001b[1m13s\u001b[0m 7ms/step - categorical_accuracy: 0.8595 - loss: 4.1183 - val_categorical_accuracy: 0.9221 - val_loss: 1.8095\n",
            "Epoch 38/100\n",
            "\u001b[1m1875/1875\u001b[0m \u001b[32m━━━━━━━━━━━━━━━━━━━━\u001b[0m\u001b[37m\u001b[0m \u001b[1m13s\u001b[0m 7ms/step - categorical_accuracy: 0.8656 - loss: 3.9551 - val_categorical_accuracy: 0.9212 - val_loss: 1.7636\n",
            "Epoch 39/100\n",
            "\u001b[1m1875/1875\u001b[0m \u001b[32m━━━━━━━━━━━━━━━━━━━━\u001b[0m\u001b[37m\u001b[0m \u001b[1m13s\u001b[0m 7ms/step - categorical_accuracy: 0.8590 - loss: 4.0722 - val_categorical_accuracy: 0.9209 - val_loss: 1.7435\n",
            "Epoch 40/100\n",
            "\u001b[1m1875/1875\u001b[0m \u001b[32m━━━━━━━━━━━━━━━━━━━━\u001b[0m\u001b[37m\u001b[0m \u001b[1m13s\u001b[0m 7ms/step - categorical_accuracy: 0.8644 - loss: 3.8492 - val_categorical_accuracy: 0.9219 - val_loss: 1.6951\n",
            "Epoch 41/100\n",
            "\u001b[1m1875/1875\u001b[0m \u001b[32m━━━━━━━━━━━━━━━━━━━━\u001b[0m\u001b[37m\u001b[0m \u001b[1m13s\u001b[0m 7ms/step - categorical_accuracy: 0.8643 - loss: 3.7466 - val_categorical_accuracy: 0.9219 - val_loss: 1.6605\n",
            "Epoch 42/100\n",
            "\u001b[1m1875/1875\u001b[0m \u001b[32m━━━━━━━━━━━━━━━━━━━━\u001b[0m\u001b[37m\u001b[0m \u001b[1m13s\u001b[0m 7ms/step - categorical_accuracy: 0.8595 - loss: 3.8081 - val_categorical_accuracy: 0.9215 - val_loss: 1.6143\n",
            "Epoch 43/100\n",
            "\u001b[1m1875/1875\u001b[0m \u001b[32m━━━━━━━━━━━━━━━━━━━━\u001b[0m\u001b[37m\u001b[0m \u001b[1m13s\u001b[0m 7ms/step - categorical_accuracy: 0.8630 - loss: 3.6404 - val_categorical_accuracy: 0.9213 - val_loss: 1.5830\n",
            "Epoch 44/100\n",
            "\u001b[1m1875/1875\u001b[0m \u001b[32m━━━━━━━━━━━━━━━━━━━━\u001b[0m\u001b[37m\u001b[0m \u001b[1m13s\u001b[0m 7ms/step - categorical_accuracy: 0.8621 - loss: 3.7030 - val_categorical_accuracy: 0.9215 - val_loss: 1.5428\n",
            "Epoch 45/100\n",
            "\u001b[1m1875/1875\u001b[0m \u001b[32m━━━━━━━━━━━━━━━━━━━━\u001b[0m\u001b[37m\u001b[0m \u001b[1m13s\u001b[0m 7ms/step - categorical_accuracy: 0.8667 - loss: 3.4115 - val_categorical_accuracy: 0.9199 - val_loss: 1.5240\n",
            "Epoch 46/100\n",
            "\u001b[1m1875/1875\u001b[0m \u001b[32m━━━━━━━━━━━━━━━━━━━━\u001b[0m\u001b[37m\u001b[0m \u001b[1m13s\u001b[0m 7ms/step - categorical_accuracy: 0.8609 - loss: 3.5179 - val_categorical_accuracy: 0.9209 - val_loss: 1.4764\n",
            "Epoch 47/100\n",
            "\u001b[1m1875/1875\u001b[0m \u001b[32m━━━━━━━━━━━━━━━━━━━━\u001b[0m\u001b[37m\u001b[0m \u001b[1m14s\u001b[0m 7ms/step - categorical_accuracy: 0.8619 - loss: 3.4734 - val_categorical_accuracy: 0.9194 - val_loss: 1.4624\n",
            "Epoch 48/100\n",
            "\u001b[1m1875/1875\u001b[0m \u001b[32m━━━━━━━━━━━━━━━━━━━━\u001b[0m\u001b[37m\u001b[0m \u001b[1m13s\u001b[0m 7ms/step - categorical_accuracy: 0.8649 - loss: 3.3001 - val_categorical_accuracy: 0.9183 - val_loss: 1.4356\n",
            "Epoch 49/100\n",
            "\u001b[1m1875/1875\u001b[0m \u001b[32m━━━━━━━━━━━━━━━━━━━━\u001b[0m\u001b[37m\u001b[0m \u001b[1m13s\u001b[0m 7ms/step - categorical_accuracy: 0.8651 - loss: 3.2867 - val_categorical_accuracy: 0.9179 - val_loss: 1.4034\n",
            "Epoch 50/100\n",
            "\u001b[1m1875/1875\u001b[0m \u001b[32m━━━━━━━━━━━━━━━━━━━━\u001b[0m\u001b[37m\u001b[0m \u001b[1m13s\u001b[0m 7ms/step - categorical_accuracy: 0.8663 - loss: 3.2218 - val_categorical_accuracy: 0.9181 - val_loss: 1.3783\n",
            "Epoch 51/100\n",
            "\u001b[1m1875/1875\u001b[0m \u001b[32m━━━━━━━━━━━━━━━━━━━━\u001b[0m\u001b[37m\u001b[0m \u001b[1m13s\u001b[0m 7ms/step - categorical_accuracy: 0.8632 - loss: 3.1804 - val_categorical_accuracy: 0.9182 - val_loss: 1.3577\n",
            "Epoch 52/100\n",
            "\u001b[1m1875/1875\u001b[0m \u001b[32m━━━━━━━━━━━━━━━━━━━━\u001b[0m\u001b[37m\u001b[0m \u001b[1m12s\u001b[0m 7ms/step - categorical_accuracy: 0.8644 - loss: 3.1637 - val_categorical_accuracy: 0.9174 - val_loss: 1.3335\n",
            "Epoch 53/100\n",
            "\u001b[1m1875/1875\u001b[0m \u001b[32m━━━━━━━━━━━━━━━━━━━━\u001b[0m\u001b[37m\u001b[0m \u001b[1m13s\u001b[0m 7ms/step - categorical_accuracy: 0.8669 - loss: 3.0345 - val_categorical_accuracy: 0.9175 - val_loss: 1.3081\n",
            "Epoch 54/100\n",
            "\u001b[1m1875/1875\u001b[0m \u001b[32m━━━━━━━━━━━━━━━━━━━━\u001b[0m\u001b[37m\u001b[0m \u001b[1m13s\u001b[0m 7ms/step - categorical_accuracy: 0.8695 - loss: 2.8875 - val_categorical_accuracy: 0.9155 - val_loss: 1.2913\n",
            "Epoch 55/100\n",
            "\u001b[1m1875/1875\u001b[0m \u001b[32m━━━━━━━━━━━━━━━━━━━━\u001b[0m\u001b[37m\u001b[0m \u001b[1m13s\u001b[0m 7ms/step - categorical_accuracy: 0.8645 - loss: 2.9162 - val_categorical_accuracy: 0.9161 - val_loss: 1.2651\n",
            "Epoch 56/100\n",
            "\u001b[1m1875/1875\u001b[0m \u001b[32m━━━━━━━━━━━━━━━━━━━━\u001b[0m\u001b[37m\u001b[0m \u001b[1m13s\u001b[0m 7ms/step - categorical_accuracy: 0.8662 - loss: 2.8622 - val_categorical_accuracy: 0.9144 - val_loss: 1.2477\n",
            "Epoch 57/100\n",
            "\u001b[1m1875/1875\u001b[0m \u001b[32m━━━━━━━━━━━━━━━━━━━━\u001b[0m\u001b[37m\u001b[0m \u001b[1m12s\u001b[0m 6ms/step - categorical_accuracy: 0.8662 - loss: 2.8361 - val_categorical_accuracy: 0.9134 - val_loss: 1.2224\n",
            "Epoch 58/100\n",
            "\u001b[1m1875/1875\u001b[0m \u001b[32m━━━━━━━━━━━━━━━━━━━━\u001b[0m\u001b[37m\u001b[0m \u001b[1m13s\u001b[0m 7ms/step - categorical_accuracy: 0.8611 - loss: 2.8125 - val_categorical_accuracy: 0.9129 - val_loss: 1.2052\n",
            "Epoch 59/100\n",
            "\u001b[1m1875/1875\u001b[0m \u001b[32m━━━━━━━━━━━━━━━━━━━━\u001b[0m\u001b[37m\u001b[0m \u001b[1m13s\u001b[0m 7ms/step - categorical_accuracy: 0.8636 - loss: 2.6993 - val_categorical_accuracy: 0.9133 - val_loss: 1.1874\n",
            "Epoch 60/100\n",
            "\u001b[1m1875/1875\u001b[0m \u001b[32m━━━━━━━━━━━━━━━━━━━━\u001b[0m\u001b[37m\u001b[0m \u001b[1m13s\u001b[0m 7ms/step - categorical_accuracy: 0.8640 - loss: 2.6900 - val_categorical_accuracy: 0.9135 - val_loss: 1.1691\n",
            "Epoch 61/100\n",
            "\u001b[1m1875/1875\u001b[0m \u001b[32m━━━━━━━━━━━━━━━━━━━━\u001b[0m\u001b[37m\u001b[0m \u001b[1m13s\u001b[0m 7ms/step - categorical_accuracy: 0.8645 - loss: 2.6858 - val_categorical_accuracy: 0.9133 - val_loss: 1.1506\n",
            "Epoch 62/100\n",
            "\u001b[1m1875/1875\u001b[0m \u001b[32m━━━━━━━━━━━━━━━━━━━━\u001b[0m\u001b[37m\u001b[0m \u001b[1m13s\u001b[0m 7ms/step - categorical_accuracy: 0.8633 - loss: 2.6301 - val_categorical_accuracy: 0.9115 - val_loss: 1.1304\n",
            "Epoch 63/100\n",
            "\u001b[1m1875/1875\u001b[0m \u001b[32m━━━━━━━━━━━━━━━━━━━━\u001b[0m\u001b[37m\u001b[0m \u001b[1m13s\u001b[0m 7ms/step - categorical_accuracy: 0.8650 - loss: 2.5117 - val_categorical_accuracy: 0.9101 - val_loss: 1.1034\n",
            "Epoch 64/100\n",
            "\u001b[1m1875/1875\u001b[0m \u001b[32m━━━━━━━━━━━━━━━━━━━━\u001b[0m\u001b[37m\u001b[0m \u001b[1m13s\u001b[0m 7ms/step - categorical_accuracy: 0.8590 - loss: 2.5705 - val_categorical_accuracy: 0.9092 - val_loss: 1.0913\n",
            "Epoch 65/100\n",
            "\u001b[1m1875/1875\u001b[0m \u001b[32m━━━━━━━━━━━━━━━━━━━━\u001b[0m\u001b[37m\u001b[0m \u001b[1m13s\u001b[0m 7ms/step - categorical_accuracy: 0.8611 - loss: 2.4834 - val_categorical_accuracy: 0.9073 - val_loss: 1.0724\n",
            "Epoch 66/100\n",
            "\u001b[1m1875/1875\u001b[0m \u001b[32m━━━━━━━━━━━━━━━━━━━━\u001b[0m\u001b[37m\u001b[0m \u001b[1m13s\u001b[0m 7ms/step - categorical_accuracy: 0.8579 - loss: 2.5172 - val_categorical_accuracy: 0.9053 - val_loss: 1.0474\n",
            "Epoch 67/100\n",
            "\u001b[1m1875/1875\u001b[0m \u001b[32m━━━━━━━━━━━━━━━━━━━━\u001b[0m\u001b[37m\u001b[0m \u001b[1m13s\u001b[0m 7ms/step - categorical_accuracy: 0.8591 - loss: 2.4154 - val_categorical_accuracy: 0.9063 - val_loss: 1.0244\n",
            "Epoch 68/100\n",
            "\u001b[1m1875/1875\u001b[0m \u001b[32m━━━━━━━━━━━━━━━━━━━━\u001b[0m\u001b[37m\u001b[0m \u001b[1m13s\u001b[0m 7ms/step - categorical_accuracy: 0.8579 - loss: 2.3886 - val_categorical_accuracy: 0.9046 - val_loss: 1.0080\n",
            "Epoch 69/100\n",
            "\u001b[1m1875/1875\u001b[0m \u001b[32m━━━━━━━━━━━━━━━━━━━━\u001b[0m\u001b[37m\u001b[0m \u001b[1m13s\u001b[0m 7ms/step - categorical_accuracy: 0.8572 - loss: 2.3025 - val_categorical_accuracy: 0.9024 - val_loss: 0.9926\n",
            "Epoch 70/100\n",
            "\u001b[1m1875/1875\u001b[0m \u001b[32m━━━━━━━━━━━━━━━━━━━━\u001b[0m\u001b[37m\u001b[0m \u001b[1m14s\u001b[0m 7ms/step - categorical_accuracy: 0.8551 - loss: 2.3109 - val_categorical_accuracy: 0.9020 - val_loss: 0.9735\n",
            "Epoch 71/100\n",
            "\u001b[1m1875/1875\u001b[0m \u001b[32m━━━━━━━━━━━━━━━━━━━━\u001b[0m\u001b[37m\u001b[0m \u001b[1m13s\u001b[0m 7ms/step - categorical_accuracy: 0.8557 - loss: 2.2703 - val_categorical_accuracy: 0.9000 - val_loss: 0.9524\n",
            "Epoch 72/100\n",
            "\u001b[1m1875/1875\u001b[0m \u001b[32m━━━━━━━━━━━━━━━━━━━━\u001b[0m\u001b[37m\u001b[0m \u001b[1m13s\u001b[0m 7ms/step - categorical_accuracy: 0.8538 - loss: 2.2974 - val_categorical_accuracy: 0.8980 - val_loss: 0.9297\n",
            "Epoch 73/100\n",
            "\u001b[1m1875/1875\u001b[0m \u001b[32m━━━━━━━━━━━━━━━━━━━━\u001b[0m\u001b[37m\u001b[0m \u001b[1m13s\u001b[0m 7ms/step - categorical_accuracy: 0.8532 - loss: 2.1765 - val_categorical_accuracy: 0.8961 - val_loss: 0.9127\n",
            "Epoch 74/100\n",
            "\u001b[1m1875/1875\u001b[0m \u001b[32m━━━━━━━━━━━━━━━━━━━━\u001b[0m\u001b[37m\u001b[0m \u001b[1m13s\u001b[0m 7ms/step - categorical_accuracy: 0.8527 - loss: 2.1510 - val_categorical_accuracy: 0.8944 - val_loss: 0.8930\n",
            "Epoch 75/100\n",
            "\u001b[1m1875/1875\u001b[0m \u001b[32m━━━━━━━━━━━━━━━━━━━━\u001b[0m\u001b[37m\u001b[0m \u001b[1m13s\u001b[0m 7ms/step - categorical_accuracy: 0.8533 - loss: 2.0062 - val_categorical_accuracy: 0.8942 - val_loss: 0.8812\n",
            "Epoch 76/100\n",
            "\u001b[1m1875/1875\u001b[0m \u001b[32m━━━━━━━━━━━━━━━━━━━━\u001b[0m\u001b[37m\u001b[0m \u001b[1m13s\u001b[0m 7ms/step - categorical_accuracy: 0.8509 - loss: 2.0538 - val_categorical_accuracy: 0.8925 - val_loss: 0.8563\n",
            "Epoch 77/100\n",
            "\u001b[1m1875/1875\u001b[0m \u001b[32m━━━━━━━━━━━━━━━━━━━━\u001b[0m\u001b[37m\u001b[0m \u001b[1m13s\u001b[0m 7ms/step - categorical_accuracy: 0.8490 - loss: 2.0723 - val_categorical_accuracy: 0.8896 - val_loss: 0.8397\n",
            "Epoch 78/100\n",
            "\u001b[1m1875/1875\u001b[0m \u001b[32m━━━━━━━━━━━━━━━━━━━━\u001b[0m\u001b[37m\u001b[0m \u001b[1m13s\u001b[0m 7ms/step - categorical_accuracy: 0.8472 - loss: 2.0065 - val_categorical_accuracy: 0.8872 - val_loss: 0.8215\n",
            "Epoch 79/100\n",
            "\u001b[1m1875/1875\u001b[0m \u001b[32m━━━━━━━━━━━━━━━━━━━━\u001b[0m\u001b[37m\u001b[0m \u001b[1m13s\u001b[0m 7ms/step - categorical_accuracy: 0.8451 - loss: 1.9284 - val_categorical_accuracy: 0.8839 - val_loss: 0.8126\n",
            "Epoch 80/100\n",
            "\u001b[1m1875/1875\u001b[0m \u001b[32m━━━━━━━━━━━━━━━━━━━━\u001b[0m\u001b[37m\u001b[0m \u001b[1m13s\u001b[0m 7ms/step - categorical_accuracy: 0.8432 - loss: 1.8848 - val_categorical_accuracy: 0.8829 - val_loss: 0.7987\n",
            "Epoch 81/100\n",
            "\u001b[1m1875/1875\u001b[0m \u001b[32m━━━━━━━━━━━━━━━━━━━━\u001b[0m\u001b[37m\u001b[0m \u001b[1m13s\u001b[0m 7ms/step - categorical_accuracy: 0.8456 - loss: 1.8761 - val_categorical_accuracy: 0.8791 - val_loss: 0.7880\n",
            "Epoch 82/100\n",
            "\u001b[1m1875/1875\u001b[0m \u001b[32m━━━━━━━━━━━━━━━━━━━━\u001b[0m\u001b[37m\u001b[0m \u001b[1m13s\u001b[0m 7ms/step - categorical_accuracy: 0.8409 - loss: 1.8199 - val_categorical_accuracy: 0.8775 - val_loss: 0.7745\n",
            "Epoch 83/100\n",
            "\u001b[1m1875/1875\u001b[0m \u001b[32m━━━━━━━━━━━━━━━━━━━━\u001b[0m\u001b[37m\u001b[0m \u001b[1m12s\u001b[0m 7ms/step - categorical_accuracy: 0.8411 - loss: 1.7925 - val_categorical_accuracy: 0.8759 - val_loss: 0.7556\n",
            "Epoch 84/100\n",
            "\u001b[1m1875/1875\u001b[0m \u001b[32m━━━━━━━━━━━━━━━━━━━━\u001b[0m\u001b[37m\u001b[0m \u001b[1m13s\u001b[0m 7ms/step - categorical_accuracy: 0.8368 - loss: 1.7710 - val_categorical_accuracy: 0.8737 - val_loss: 0.7471\n",
            "Epoch 85/100\n",
            "\u001b[1m1875/1875\u001b[0m \u001b[32m━━━━━━━━━━━━━━━━━━━━\u001b[0m\u001b[37m\u001b[0m \u001b[1m13s\u001b[0m 7ms/step - categorical_accuracy: 0.8353 - loss: 1.7442 - val_categorical_accuracy: 0.8704 - val_loss: 0.7402\n",
            "Epoch 86/100\n",
            "\u001b[1m1875/1875\u001b[0m \u001b[32m━━━━━━━━━━━━━━━━━━━━\u001b[0m\u001b[37m\u001b[0m \u001b[1m13s\u001b[0m 7ms/step - categorical_accuracy: 0.8346 - loss: 1.7099 - val_categorical_accuracy: 0.8676 - val_loss: 0.7326\n",
            "Epoch 87/100\n",
            "\u001b[1m1875/1875\u001b[0m \u001b[32m━━━━━━━━━━━━━━━━━━━━\u001b[0m\u001b[37m\u001b[0m \u001b[1m13s\u001b[0m 7ms/step - categorical_accuracy: 0.8291 - loss: 1.6692 - val_categorical_accuracy: 0.8641 - val_loss: 0.7237\n",
            "Epoch 88/100\n",
            "\u001b[1m1875/1875\u001b[0m \u001b[32m━━━━━━━━━━━━━━━━━━━━\u001b[0m\u001b[37m\u001b[0m \u001b[1m13s\u001b[0m 7ms/step - categorical_accuracy: 0.8297 - loss: 1.6508 - val_categorical_accuracy: 0.8628 - val_loss: 0.7165\n",
            "Epoch 89/100\n",
            "\u001b[1m1875/1875\u001b[0m \u001b[32m━━━━━━━━━━━━━━━━━━━━\u001b[0m\u001b[37m\u001b[0m \u001b[1m13s\u001b[0m 7ms/step - categorical_accuracy: 0.8305 - loss: 1.5947 - val_categorical_accuracy: 0.8606 - val_loss: 0.7136\n",
            "Epoch 90/100\n",
            "\u001b[1m1875/1875\u001b[0m \u001b[32m━━━━━━━━━━━━━━━━━━━━\u001b[0m\u001b[37m\u001b[0m \u001b[1m13s\u001b[0m 7ms/step - categorical_accuracy: 0.8251 - loss: 1.5947 - val_categorical_accuracy: 0.8596 - val_loss: 0.7038\n",
            "Epoch 91/100\n",
            "\u001b[1m1875/1875\u001b[0m \u001b[32m━━━━━━━━━━━━━━━━━━━━\u001b[0m\u001b[37m\u001b[0m \u001b[1m13s\u001b[0m 7ms/step - categorical_accuracy: 0.8255 - loss: 1.5264 - val_categorical_accuracy: 0.8587 - val_loss: 0.6964\n",
            "Epoch 92/100\n",
            "\u001b[1m1875/1875\u001b[0m \u001b[32m━━━━━━━━━━━━━━━━━━━━\u001b[0m\u001b[37m\u001b[0m \u001b[1m13s\u001b[0m 7ms/step - categorical_accuracy: 0.8222 - loss: 1.5274 - val_categorical_accuracy: 0.8572 - val_loss: 0.6876\n",
            "Epoch 93/100\n",
            "\u001b[1m1875/1875\u001b[0m \u001b[32m━━━━━━━━━━━━━━━━━━━━\u001b[0m\u001b[37m\u001b[0m \u001b[1m13s\u001b[0m 7ms/step - categorical_accuracy: 0.8187 - loss: 1.5581 - val_categorical_accuracy: 0.8569 - val_loss: 0.6815\n",
            "Epoch 94/100\n",
            "\u001b[1m1875/1875\u001b[0m \u001b[32m━━━━━━━━━━━━━━━━━━━━\u001b[0m\u001b[37m\u001b[0m \u001b[1m13s\u001b[0m 7ms/step - categorical_accuracy: 0.8241 - loss: 1.3928 - val_categorical_accuracy: 0.8525 - val_loss: 0.6787\n",
            "Epoch 95/100\n",
            "\u001b[1m1875/1875\u001b[0m \u001b[32m━━━━━━━━━━━━━━━━━━━━\u001b[0m\u001b[37m\u001b[0m \u001b[1m13s\u001b[0m 7ms/step - categorical_accuracy: 0.8195 - loss: 1.4344 - val_categorical_accuracy: 0.8520 - val_loss: 0.6736\n",
            "Epoch 96/100\n",
            "\u001b[1m1875/1875\u001b[0m \u001b[32m━━━━━━━━━━━━━━━━━━━━\u001b[0m\u001b[37m\u001b[0m \u001b[1m13s\u001b[0m 7ms/step - categorical_accuracy: 0.8192 - loss: 1.3899 - val_categorical_accuracy: 0.8512 - val_loss: 0.6709\n",
            "Epoch 97/100\n",
            "\u001b[1m1875/1875\u001b[0m \u001b[32m━━━━━━━━━━━━━━━━━━━━\u001b[0m\u001b[37m\u001b[0m \u001b[1m13s\u001b[0m 7ms/step - categorical_accuracy: 0.8205 - loss: 1.3616 - val_categorical_accuracy: 0.8504 - val_loss: 0.6640\n",
            "Epoch 98/100\n",
            "\u001b[1m1875/1875\u001b[0m \u001b[32m━━━━━━━━━━━━━━━━━━━━\u001b[0m\u001b[37m\u001b[0m \u001b[1m13s\u001b[0m 7ms/step - categorical_accuracy: 0.8153 - loss: 1.3875 - val_categorical_accuracy: 0.8488 - val_loss: 0.6600\n",
            "Epoch 99/100\n",
            "\u001b[1m1875/1875\u001b[0m \u001b[32m━━━━━━━━━━━━━━━━━━━━\u001b[0m\u001b[37m\u001b[0m \u001b[1m13s\u001b[0m 7ms/step - categorical_accuracy: 0.8145 - loss: 1.3736 - val_categorical_accuracy: 0.8482 - val_loss: 0.6570\n",
            "Epoch 100/100\n",
            "\u001b[1m1875/1875\u001b[0m \u001b[32m━━━━━━━━━━━━━━━━━━━━\u001b[0m\u001b[37m\u001b[0m \u001b[1m13s\u001b[0m 7ms/step - categorical_accuracy: 0.8139 - loss: 1.3689 - val_categorical_accuracy: 0.8488 - val_loss: 0.6516\n"
          ]
        }
      ]
    },
    {
      "cell_type": "code",
      "source": [
        "# save model\n",
        "model.save('final_model.h5')"
      ],
      "metadata": {
        "colab": {
          "base_uri": "https://localhost:8080/"
        },
        "id": "7-sHj6MLlIo-",
        "outputId": "573d4b9f-9640-4a24-c146-7badec3bbbad"
      },
      "execution_count": 58,
      "outputs": [
        {
          "output_type": "stream",
          "name": "stderr",
          "text": [
            "WARNING:absl:You are saving your model as an HDF5 file via `model.save()` or `keras.saving.save_model(model)`. This file format is considered legacy. We recommend using instead the native Keras format, e.g. `model.save('my_model.keras')` or `keras.saving.save_model(model, 'my_model.keras')`. \n"
          ]
        }
      ]
    },
    {
      "cell_type": "code",
      "source": [
        "import cv2\n",
        "\n",
        "\n",
        "def load_image(filename):\n",
        "    # Load the image in grayscale\n",
        "    img = cv2.imread(filename, cv2.IMREAD_GRAYSCALE)\n",
        "\n",
        "    if img is None:\n",
        "        raise FileNotFoundError(f\"Image at path '{filename}' could not be loaded.\")\n",
        "\n",
        "    # Resize the image to 28x28 pixels\n",
        "    img = cv2.resize(img, (28, 28))\n",
        "\n",
        "    # Reshape the image to the shape required by the model\n",
        "    img = img.reshape(1, 28, 28, 1)\n",
        "\n",
        "    # Convert the image to float32 and normalize the pixel values to the range [0, 1]\n",
        "    img = img.astype('float32')\n",
        "    img = img / 255.0\n",
        "\n",
        "    return img\n",
        "\n",
        "# load an image and predict the class\n",
        "def run_example():\n",
        "    # load the image\n",
        "    img = load_image('5.jpg')\n",
        "    # load model\n",
        "    model = load_model('final_model.h5')\n",
        "    # predict the class\n",
        "    predict_value = model.predict(img)\n",
        "    digit = argmax(predict_value)\n",
        "    print(digit)"
      ],
      "metadata": {
        "id": "AqCKkfP1mAC3"
      },
      "execution_count": 81,
      "outputs": []
    },
    {
      "cell_type": "code",
      "source": [
        "# entry point, run the example\n",
        "run_example()"
      ],
      "metadata": {
        "colab": {
          "base_uri": "https://localhost:8080/"
        },
        "id": "k8Q7gFHOm_6b",
        "outputId": "4360cc96-0805-4b4a-e8d9-d5a8b9eca0e1"
      },
      "execution_count": 82,
      "outputs": [
        {
          "output_type": "stream",
          "name": "stderr",
          "text": [
            "WARNING:absl:Compiled the loaded model, but the compiled metrics have yet to be built. `model.compile_metrics` will be empty until you train or evaluate the model.\n"
          ]
        },
        {
          "output_type": "stream",
          "name": "stdout",
          "text": [
            "\u001b[1m1/1\u001b[0m \u001b[32m━━━━━━━━━━━━━━━━━━━━\u001b[0m\u001b[37m\u001b[0m \u001b[1m0s\u001b[0m 28ms/step\n",
            "8\n"
          ]
        }
      ]
    }
  ]
}